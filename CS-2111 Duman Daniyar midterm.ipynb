{
 "cells": [
  {
   "cell_type": "markdown",
   "id": "4a9ae262",
   "metadata": {},
   "source": [
    "# Task2. \n",
    "# Big Data in Law Enforcement"
   ]
  },
  {
   "cell_type": "markdown",
   "id": "9f5e9943",
   "metadata": {},
   "source": [
    "# Task3. \n",
    "## Big Data, or huge amounts of data, refers to large or complex data sets that cannot be processed by traditional data processing applications."
   ]
  },
  {
   "cell_type": "markdown",
   "id": "2efbbaa5",
   "metadata": {},
   "source": [
    "# Task4. \n",
    "*Some of the popular languages that Data Scientists use are:*\n",
    "1. Python\n",
    "2. C++\n",
    "3. Java"
   ]
  },
  {
   "cell_type": "markdown",
   "id": "63e91f80",
   "metadata": {},
   "source": [
    "# Task5. \n",
    "*Some of the commonly used libraries used by Data Scientist include:*\n",
    "* NumPy\n",
    "* Pandas\n",
    "* Matplotlib"
   ]
  },
  {
   "cell_type": "markdown",
   "id": "a834a2a5",
   "metadata": {},
   "source": [
    "# Task6.\n",
    "| Data Science Tools |\n",
    "| ------------------ |\n",
    "| KNIME |\n",
    "| WEKA |\n",
    "| TensorFlow |"
   ]
  },
  {
   "cell_type": "markdown",
   "id": "6033acae",
   "metadata": {},
   "source": [
    "# Task7.\n",
    "### Below are a few examples of evaluating arithmetic expressions in Python."
   ]
  },
  {
   "cell_type": "markdown",
   "id": "1561f1e8",
   "metadata": {},
   "source": [
    "# Task8.\n",
    "This is a simple arithmetic expression"
   ]
  },
  {
   "cell_type": "code",
   "execution_count": 10,
   "id": "ab821d9e",
   "metadata": {},
   "outputs": [
    {
     "data": {
      "text/plain": [
       "33"
      ]
     },
     "execution_count": 10,
     "metadata": {},
     "output_type": "execute_result"
    }
   ],
   "source": [
    "(4*6)+9"
   ]
  },
  {
   "cell_type": "markdown",
   "id": "b5390311",
   "metadata": {},
   "source": [
    "# Task9.\n",
    "This will convert 300 minutes to hours by\n",
    "dividing by 60"
   ]
  },
  {
   "cell_type": "code",
   "execution_count": 11,
   "id": "6b8451ed",
   "metadata": {},
   "outputs": [
    {
     "data": {
      "text/plain": [
       "5.0"
      ]
     },
     "execution_count": 11,
     "metadata": {},
     "output_type": "execute_result"
    }
   ],
   "source": [
    "300/60"
   ]
  },
  {
   "cell_type": "markdown",
   "id": "b47470f8",
   "metadata": {},
   "source": [
    "# Task10. \n",
    "\n",
    "**Objectives**\n",
    "\n",
    "*Some of the popular languages that Data Scientists use are:*\n",
    "1. Python\n",
    "2. C++\n",
    "3. Java"
   ]
  },
  {
   "cell_type": "markdown",
   "id": "77c3cb42",
   "metadata": {},
   "source": [
    "# Task11. \n",
    "## Author:\n",
    "## Duman Daniyar"
   ]
  },
  {
   "cell_type": "code",
   "execution_count": null,
   "id": "4130926b",
   "metadata": {},
   "outputs": [],
   "source": []
  }
 ],
 "metadata": {
  "kernelspec": {
   "display_name": "Python 3 (ipykernel)",
   "language": "python",
   "name": "python3"
  },
  "language_info": {
   "codemirror_mode": {
    "name": "ipython",
    "version": 3
   },
   "file_extension": ".py",
   "mimetype": "text/x-python",
   "name": "python",
   "nbconvert_exporter": "python",
   "pygments_lexer": "ipython3",
   "version": "3.9.13"
  }
 },
 "nbformat": 4,
 "nbformat_minor": 5
}
